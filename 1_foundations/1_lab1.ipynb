{
 "cells": [
  {
   "cell_type": "markdown",
   "metadata": {},
   "source": [
    "# Welcome to the start of your adventure in Agentic AI"
   ]
  },
  {
   "cell_type": "markdown",
   "metadata": {},
   "source": [
    "<table style=\"margin: 0; text-align: left; width:100%\">\n",
    "    <tr>\n",
    "        <td style=\"width: 150px; height: 150px; vertical-align: middle;\">\n",
    "            <img src=\"../assets/stop.png\" width=\"150\" height=\"150\" style=\"display: block;\" />\n",
    "        </td>\n",
    "        <td>\n",
    "            <h2 style=\"color:#ff7800;\">Are you ready for action??</h2>\n",
    "            <span style=\"color:#ff7800;\">Have you completed all the setup steps in the <a href=\"../setup/\">setup</a> folder?<br/>\n",
    "            Have you checked out the guides in the <a href=\"../guides/01_intro.ipynb\">guides</a> folder?<br/>\n",
    "            Well in that case, you're ready!!\n",
    "            </span>\n",
    "        </td>\n",
    "    </tr>\n",
    "</table>"
   ]
  },
  {
   "cell_type": "markdown",
   "metadata": {},
   "source": [
    "<table style=\"margin: 0; text-align: left; width:100%\">\n",
    "    <tr>\n",
    "        <td style=\"width: 150px; height: 150px; vertical-align: middle;\">\n",
    "            <img src=\"../assets/tools.png\" width=\"150\" height=\"150\" style=\"display: block;\" />\n",
    "        </td>\n",
    "        <td>\n",
    "            <h2 style=\"color:#00bfff;\">This code is a live resource - keep an eye out for my updates</h2>\n",
    "            <span style=\"color:#00bfff;\">I push updates regularly. As people ask questions or have problems, I add more examples and improve explanations. As a result, the code below might not be identical to the videos, as I've added more steps and better comments. Consider this like an interactive book that accompanies the lectures.<br/><br/>\n",
    "            I try to send emails regularly with important updates related to the course. You can find this in the 'Announcements' section of Udemy in the left sidebar. You can also choose to receive my emails via your Notification Settings in Udemy. I'm respectful of your inbox and always try to add value with my emails!\n",
    "            </span>\n",
    "        </td>\n",
    "    </tr>\n",
    "</table>"
   ]
  },
  {
   "cell_type": "markdown",
   "metadata": {},
   "source": [
    "### And please do remember to contact me if I can help\n",
    "\n",
    "And I love to connect: https://www.linkedin.com/in/eddonner/\n",
    "\n",
    "\n",
    "### New to Notebooks like this one? Head over to the guides folder!\n",
    "\n",
    "Just to check you've already added the Python and Jupyter extensions to Cursor, if not already installed:\n",
    "- Open extensions (View >> extensions)\n",
    "- Search for python, and when the results show, click on the ms-python one, and Install it if not already installed\n",
    "- Search for jupyter, and when the results show, click on the Microsoft one, and Install it if not already installed  \n",
    "Then View >> Explorer to bring back the File Explorer.\n",
    "\n",
    "And then:\n",
    "1. Click where it says \"Select Kernel\" near the top right, and select the option called `.venv (Python 3.12.9)` or similar, which should be the first choice or the most prominent choice. You may need to choose \"Python Environments\" first.\n",
    "2. Click in each \"cell\" below, starting with the cell immediately below this text, and press Shift+Enter to run\n",
    "3. Enjoy!\n",
    "\n",
    "After you click \"Select Kernel\", if there is no option like `.venv (Python 3.12.9)` then please do the following:  \n",
    "1. On Mac: From the Cursor menu, choose Settings >> VS Code Settings (NOTE: be sure to select `VSCode Settings` not `Cursor Settings`);  \n",
    "On Windows PC: From the File menu, choose Preferences >> VS Code Settings(NOTE: be sure to select `VSCode Settings` not `Cursor Settings`)  \n",
    "2. In the Settings search bar, type \"venv\"  \n",
    "3. In the field \"Path to folder with a list of Virtual Environments\" put the path to the project root, like C:\\Users\\username\\projects\\agents (on a Windows PC) or /Users/username/projects/agents (on Mac or Linux).  \n",
    "And then try again.\n",
    "\n",
    "Having problems with missing Python versions in that list? Have you ever used Anaconda before? It might be interferring. Quit Cursor, bring up a new command line, and make sure that your Anaconda environment is deactivated:    \n",
    "`conda deactivate`  \n",
    "And if you still have any problems with conda and python versions, it's possible that you will need to run this too:  \n",
    "`conda config --set auto_activate_base false`  \n",
    "and then from within the Agents directory, you should be able to run `uv python list` and see the Python 3.12 version."
   ]
  },
  {
   "cell_type": "code",
   "execution_count": 1,
   "metadata": {},
   "outputs": [],
   "source": [
    "# First let's do an import\n",
    "from dotenv import load_dotenv\n"
   ]
  },
  {
   "cell_type": "code",
   "execution_count": 2,
   "metadata": {},
   "outputs": [
    {
     "data": {
      "text/plain": [
       "True"
      ]
     },
     "execution_count": 2,
     "metadata": {},
     "output_type": "execute_result"
    }
   ],
   "source": [
    "# Next it's time to load the API keys into environment variables\n",
    "\n",
    "load_dotenv(override=True)"
   ]
  },
  {
   "cell_type": "code",
   "execution_count": 3,
   "metadata": {},
   "outputs": [
    {
     "name": "stdout",
     "output_type": "stream",
     "text": [
      "OpenAI API Key exists and begins sk-proj-\n"
     ]
    }
   ],
   "source": [
    "# Check the keys\n",
    "\n",
    "import os\n",
    "openai_api_key = os.getenv('OPENAI_API_KEY')\n",
    "\n",
    "if openai_api_key:\n",
    "    print(f\"OpenAI API Key exists and begins {openai_api_key[:8]}\")\n",
    "else:\n",
    "    print(\"OpenAI API Key not set - please head to the troubleshooting guide in the setup folder\")\n",
    "    \n"
   ]
  },
  {
   "cell_type": "code",
   "execution_count": 4,
   "metadata": {},
   "outputs": [],
   "source": [
    "# And now - the all important import statement\n",
    "# If you get an import error - head over to troubleshooting guide\n",
    "\n",
    "from openai import OpenAI"
   ]
  },
  {
   "cell_type": "code",
   "execution_count": 5,
   "metadata": {},
   "outputs": [],
   "source": [
    "# And now we'll create an instance of the OpenAI class\n",
    "# If you're not sure what it means to create an instance of a class - head over to the guides folder!\n",
    "# If you get a NameError - head over to the guides folder to learn about NameErrors\n",
    "\n",
    "openai = OpenAI()"
   ]
  },
  {
   "cell_type": "code",
   "execution_count": 6,
   "metadata": {},
   "outputs": [],
   "source": [
    "# Create a list of messages in the familiar OpenAI format\n",
    "\n",
    "messages = [{\"role\": \"user\", \"content\": \"What is 2+2?\"}]"
   ]
  },
  {
   "cell_type": "code",
   "execution_count": 7,
   "metadata": {},
   "outputs": [
    {
     "name": "stdout",
     "output_type": "stream",
     "text": [
      "2 + 2 equals 4.\n"
     ]
    }
   ],
   "source": [
    "# And now call it! Any problems, head to the troubleshooting guide\n",
    "# This uses GPT 4.1 nano, the incredibly cheap model\n",
    "\n",
    "response = openai.chat.completions.create(\n",
    "    model=\"gpt-4.1-nano\",\n",
    "    messages=messages\n",
    ")\n",
    "\n",
    "print(response.choices[0].message.content)\n"
   ]
  },
  {
   "cell_type": "code",
   "execution_count": 8,
   "metadata": {},
   "outputs": [],
   "source": [
    "# And now - let's ask for a question:\n",
    "\n",
    "question = \"Please propose a hard, challenging question to assess someone's IQ. Respond only with the question.\"\n",
    "messages = [{\"role\": \"user\", \"content\": question}]\n"
   ]
  },
  {
   "cell_type": "code",
   "execution_count": 9,
   "metadata": {},
   "outputs": [
    {
     "name": "stdout",
     "output_type": "stream",
     "text": [
      "If 5 machines take 5 minutes to make 5 widgets, how long would 100 machines take to make 100 widgets?\n"
     ]
    }
   ],
   "source": [
    "# ask it - this uses GPT 4.1 mini, still cheap but more powerful than nano\n",
    "\n",
    "response = openai.chat.completions.create(\n",
    "    model=\"gpt-4.1-mini\",\n",
    "    messages=messages\n",
    ")\n",
    "\n",
    "question = response.choices[0].message.content\n",
    "\n",
    "print(question)\n"
   ]
  },
  {
   "cell_type": "code",
   "execution_count": 10,
   "metadata": {},
   "outputs": [],
   "source": [
    "# form a new messages list\n",
    "messages = [{\"role\": \"user\", \"content\": question}]\n"
   ]
  },
  {
   "cell_type": "code",
   "execution_count": 11,
   "metadata": {},
   "outputs": [
    {
     "name": "stdout",
     "output_type": "stream",
     "text": [
      "Let's analyze the problem step-by-step:\n",
      "\n",
      "**Given:**\n",
      "- 5 machines take 5 minutes to make 5 widgets.\n",
      "\n",
      "**Find:**\n",
      "- How long would 100 machines take to make 100 widgets?\n",
      "\n",
      "---\n",
      "\n",
      "### Step 1: Understand the rate per machine\n",
      "If 5 machines make 5 widgets in 5 minutes, then:\n",
      "\n",
      "- Total widgets = 5\n",
      "- Total machines = 5\n",
      "- Time = 5 minutes\n",
      "\n",
      "Widgets made per machine in 5 minutes = \\( \\frac{5 \\text{ widgets}}{5 \\text{ machines}} = 1 \\text{ widget per machine} \\) in 5 minutes.\n",
      "\n",
      "So, **one machine takes 5 minutes to make one widget**.\n",
      "\n",
      "---\n",
      "\n",
      "### Step 2: Calculate how long 100 machines take to make 100 widgets\n",
      "- Each machine makes 1 widget in 5 minutes.\n",
      "- 100 machines working together make 100 widgets in the same 5 minutes.\n",
      "\n",
      "---\n",
      "\n",
      "### **Answer:**\n",
      "\n",
      "**100 machines will take 5 minutes to make 100 widgets.**\n"
     ]
    }
   ],
   "source": [
    "# Ask it again\n",
    "\n",
    "response = openai.chat.completions.create(\n",
    "    model=\"gpt-4.1-mini\",\n",
    "    messages=messages\n",
    ")\n",
    "\n",
    "answer = response.choices[0].message.content\n",
    "print(answer)\n"
   ]
  },
  {
   "cell_type": "code",
   "execution_count": 12,
   "metadata": {},
   "outputs": [
    {
     "data": {
      "text/markdown": [
       "Let's analyze the problem step-by-step:\n",
       "\n",
       "**Given:**\n",
       "- 5 machines take 5 minutes to make 5 widgets.\n",
       "\n",
       "**Find:**\n",
       "- How long would 100 machines take to make 100 widgets?\n",
       "\n",
       "---\n",
       "\n",
       "### Step 1: Understand the rate per machine\n",
       "If 5 machines make 5 widgets in 5 minutes, then:\n",
       "\n",
       "- Total widgets = 5\n",
       "- Total machines = 5\n",
       "- Time = 5 minutes\n",
       "\n",
       "Widgets made per machine in 5 minutes = \\( \\frac{5 \\text{ widgets}}{5 \\text{ machines}} = 1 \\text{ widget per machine} \\) in 5 minutes.\n",
       "\n",
       "So, **one machine takes 5 minutes to make one widget**.\n",
       "\n",
       "---\n",
       "\n",
       "### Step 2: Calculate how long 100 machines take to make 100 widgets\n",
       "- Each machine makes 1 widget in 5 minutes.\n",
       "- 100 machines working together make 100 widgets in the same 5 minutes.\n",
       "\n",
       "---\n",
       "\n",
       "### **Answer:**\n",
       "\n",
       "**100 machines will take 5 minutes to make 100 widgets.**"
      ],
      "text/plain": [
       "<IPython.core.display.Markdown object>"
      ]
     },
     "metadata": {},
     "output_type": "display_data"
    }
   ],
   "source": [
    "from IPython.display import Markdown, display\n",
    "\n",
    "display(Markdown(answer))\n",
    "\n"
   ]
  },
  {
   "cell_type": "markdown",
   "metadata": {},
   "source": [
    "# Congratulations!\n",
    "\n",
    "That was a small, simple step in the direction of Agentic AI, with your new environment!\n",
    "\n",
    "Next time things get more interesting..."
   ]
  },
  {
   "cell_type": "markdown",
   "metadata": {},
   "source": [
    "<table style=\"margin: 0; text-align: left; width:100%\">\n",
    "    <tr>\n",
    "        <td style=\"width: 150px; height: 150px; vertical-align: middle;\">\n",
    "            <img src=\"../assets/exercise.png\" width=\"150\" height=\"150\" style=\"display: block;\" />\n",
    "        </td>\n",
    "        <td>\n",
    "            <h2 style=\"color:#ff7800;\">Exercise</h2>\n",
    "            <span style=\"color:#ff7800;\">Now try this commercial application:<br/>\n",
    "            First ask the LLM to pick a business area that might be worth exploring for an Agentic AI opportunity.<br/>\n",
    "            Then ask the LLM to present a pain-point in that industry - something challenging that might be ripe for an Agentic solution.<br/>\n",
    "            Finally have 3 third LLM call propose the Agentic AI solution.\n",
    "            </span>\n",
    "        </td>\n",
    "    </tr>\n",
    "</table>"
   ]
  },
  {
   "cell_type": "code",
   "execution_count": 13,
   "metadata": {},
   "outputs": [
    {
     "name": "stdout",
     "output_type": "stream",
     "text": [
      "One promising business area where Agentic AI can make a significant impact is supply chain management and logistics.  \n",
      "\n",
      "**How Agentic AI Can Help:**\n",
      "\n",
      "- **Real-Time Decision Making:** Agentic AI can autonomously monitor inventory levels, transportation routes, and delivery schedules to make instant adjustments, optimizing efficiency.  \n",
      "- **Predictive Analytics:** It can forecast demand trends and potential disruptions, enabling proactive planning.  \n",
      "- **Automation of Routine Tasks:** From scheduling deliveries to inventory replenishment, AI agents can handle routine operations, reducing human workload.  \n",
      "- **Enhanced Coordination:** Multiple AI agents can collaborate across suppliers, warehouses, and transportation providers to streamline the entire supply chain.  \n",
      "\n",
      "**Benefits:**\n",
      "\n",
      "- Increased operational efficiency  \n",
      "- Reduced costs and delays  \n",
      "- Improved responsiveness to disruptions  \n",
      "- Greater overall supply chain resilience  \n",
      "\n",
      "Implementing Agentic AI in supply chain management can transform complex logistical networks into agile, self-managing systems, providing businesses with a competitive edge in today's fast-paced market.\n",
      "A key pain point in supply chain management where Agentic AI can make a significant impact is **disruption response and recovery**.  \n",
      "\n",
      "**Why this is critical:**  \n",
      "Supply chains are highly susceptible to unexpected disruptions such as natural disasters, port strikes, geopolitical issues, or sudden demand spikes. Traditional reactive approaches can result in delays, increased costs, and customer dissatisfaction.  \n",
      "\n",
      "**How Agentic AI addresses this pain point:**  \n",
      "- **Autonomous Detection of Disruptions:** AI agents continuously monitor real-time data from transportation, weather reports, geopolitical news, and other relevant sources to identify early signs of potential disruptions.  \n",
      "- **Proactive Contingency Planning:** By predicting the likelihood and impact of disruptions, AI can autonomously develop alternative routing or sourcing strategies ahead of time.  \n",
      "- **Dynamic Adjustment and Execution:** Once a disruption occurs, AI can rapidly reorganize transportation schedules, reroute shipments, or adjust inventory replenishment plans without human intervention, minimizing delays.  \n",
      "- **Collaborative Coordination:** Multiple AI agents across stakeholders work together to implement contingency plans smoothly, ensuring quick response and recovery.  \n",
      "\n",
      "**Impact:**  \n",
      "Implementing Agentic AI for disruption response enhances supply chain resilience by enabling quicker, more autonomous reactions to unforeseen events. This reduces downtime, mitigates financial losses, and maintains customer satisfaction, ultimately giving businesses a competitive advantage in a volatile environment.\n",
      "Proposed Agentic AI Solution for Supply Chain Disruption Response and Recovery\n",
      "\n",
      "Overview:\n",
      "Develop an integrated, multi-agent system (MAS) comprising specialized autonomous AI agents that collaboratively monitor, predict, plan, and execute responses to supply chain disruptions. This system aims to enhance resilience by enabling rapid, autonomous, and coordinated decision-making across the entire supply chain ecosystem.\n",
      "\n",
      "Key Components:\n",
      "\n",
      "1. **Disruption Monitoring Agents (DMAs):**\n",
      "   - Continuously gather and analyze real-time data from multiple sources:\n",
      "     - Transportation status (GPS, IoT sensors)\n",
      "     - Weather forecasts and reports\n",
      "     - Port and customs status updates\n",
      "     - Geopolitical news and alerts\n",
      "     - Inventory and demand levels\n",
      "   - Use anomaly detection and trend analysis to identify early signs of disruption.\n",
      "   - Alert the system proactively before major issues escalate.\n",
      "\n",
      "2. **Predictive Disruption Impact Agents (PDIAs):**\n",
      "   - Assess the potential impact and likelihood of identified disruptions.\n",
      "   - Use machine learning models trained on historical data to forecast severity and affected nodes.\n",
      "   - Maintain dynamic risk profiles for suppliers, routes, and inventory points.\n",
      "\n",
      "3. **Contingency Planning Agents (CPAs):**\n",
      "   - Generate alternative sourcing, routing, and inventory strategies based on predicted disruptions.\n",
      "   - Consider constraints such as costs, lead times, and capacity.\n",
      "   - Maintain a repository of predefined contingency plans for rapid deployment.\n",
      "\n",
      "4. **Execution and Coordination Agents (ECAs):**\n",
      "   - Implement selected contingency plans autonomously.\n",
      "   - Communicate with logistics providers, suppliers, and warehouses to reroute shipments, adjust inventory levels, and reschedule deliveries.\n",
      "   - Adapt plans dynamically as new information arrives.\n",
      "\n",
      "5. **Collaborative Multi-Stakeholder Agents:**\n",
      "   - Facilitate seamless coordination across suppliers, carriers, warehouses, and retailers.\n",
      "   - Use secure, decentralized communication protocols to ensure data privacy and synchronization.\n",
      "   - Aggregate feedback and real-time status updates to refine responses.\n",
      "\n",
      "Operational Workflow:\n",
      "\n",
      "1. **Detection:** DMAs detect early signs of disruption.\n",
      "2. **Impact Assessment:** PDIAs evaluate potential severity.\n",
      "3. **Planning:** CPAs develop or select contingency strategies.\n",
      "4. **Execution:** ECAs coordinate immediate actions to re-route, resupply, or adjust inventories.\n",
      "5. **Monitoring & Adjustment:** Continuously track execution outcomes and adapt plans dynamically.\n",
      "\n",
      "Benefits:\n",
      "\n",
      "- **Autonomous & Rapid Response:** Minimizes human delay in critical decision-making.\n",
      "- **Proactive Risk Mitigation:** Anticipates disruptions before they fully materialize.\n",
      "- **Holistic Coordination:** Ensures all stakeholders act in concert for efficient recovery.\n",
      "- **Resilience & Competitiveness:** Maintains service levels and reduces costs during adverse events.\n",
      "\n",
      "Implementation Notes:\n",
      "- Integrate with existing supply chain management systems via APIs.\n",
      "- Employ explainability features to ensure transparency and trust.\n",
      "- Incorporate learning components to improve predictions and plans over time.\n",
      "\n",
      "Conclusion:\n",
      "An agentic multi-agent AI system offers a transformative solution to supply chain disruption management, providing the agility, foresight, and coordination needed to make supply chains more resilient and adaptive in an increasingly volatile environment.\n"
     ]
    }
   ],
   "source": [
    "# First create the messages:\n",
    "\n",
    "messages = [{\"role\": \"user\", \"content\": \"Pick a business area where Agentic AI can help\"}]\n",
    "\n",
    "response = openai.chat.completions.create(\n",
    "    model=\"gpt-4.1-nano\",\n",
    "    messages=messages\n",
    ")\n",
    "\n",
    "business_area = response.choices[0].message.content\n",
    "\n",
    "\n",
    "print(business_area)\n",
    "\n",
    "\n",
    "# Then read the business idea:\n",
    "\n",
    "messages = [{\"role\": \"user\", \"content\": \"Pick a pain point in the \" + business_area + \" that Agentic AI can solve\"}]\n",
    "\n",
    "response = openai.chat.completions.create(\n",
    "    model=\"gpt-4.1-nano\",\n",
    "    messages=messages\n",
    ")\n",
    "\n",
    "business_idea = response.choices[0].message.content\n",
    "\n",
    "\n",
    "print(business_idea)\n",
    "\n",
    "\n",
    "messages = [{\"role\": \"user\", \"content\": \"Propose an agentic AI solution for  \" + business_idea}]\n",
    "\n",
    "response = openai.chat.completions.create(\n",
    "    model=\"gpt-4.1-nano\",\n",
    "    messages=messages\n",
    ")\n",
    "\n",
    "\n",
    "ai_solution = response.choices[0].message.content\n",
    "\n",
    "\n",
    "print(ai_solution)\n"
   ]
  },
  {
   "cell_type": "markdown",
   "metadata": {},
   "source": []
  }
 ],
 "metadata": {
  "kernelspec": {
   "display_name": ".venv",
   "language": "python",
   "name": "python3"
  },
  "language_info": {
   "codemirror_mode": {
    "name": "ipython",
    "version": 3
   },
   "file_extension": ".py",
   "mimetype": "text/x-python",
   "name": "python",
   "nbconvert_exporter": "python",
   "pygments_lexer": "ipython3",
   "version": "3.12.10"
  }
 },
 "nbformat": 4,
 "nbformat_minor": 2
}
